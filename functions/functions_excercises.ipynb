{
 "cells": [
  {
   "attachments": {},
   "cell_type": "markdown",
   "metadata": {},
   "source": [
    "# Functions"
   ]
  },
  {
   "attachments": {},
   "cell_type": "markdown",
   "metadata": {},
   "source": [
    "#### Excercise 8-1"
   ]
  },
  {
   "cell_type": "code",
   "execution_count": 1,
   "metadata": {},
   "outputs": [
    {
     "name": "stdout",
     "output_type": "stream",
     "text": [
      "Hey! I'm learning functions in this chapter\n",
      "None\n"
     ]
    }
   ],
   "source": [
    "def display_message():\n",
    "    \"\"\"This function tells people what I'm learning in this chapter \"\"\"\n",
    "    print('Hey! I\\'m learning functions in this chapter')\n",
    "\n",
    "print(display_message())"
   ]
  },
  {
   "attachments": {},
   "cell_type": "markdown",
   "metadata": {},
   "source": [
    "#### Excercise 8-2"
   ]
  },
  {
   "cell_type": "code",
   "execution_count": 5,
   "metadata": {},
   "outputs": [
    {
     "name": "stdout",
     "output_type": "stream",
     "text": [
      "One of my favorite books is Python Crash Course\n",
      "None\n"
     ]
    }
   ],
   "source": [
    "def  favorite_book(title):\n",
    "    print('One of my favorite books is {}'.format(title.title()))\n",
    "\n",
    "print(favorite_book('Python crash course'))"
   ]
  },
  {
   "attachments": {},
   "cell_type": "markdown",
   "metadata": {},
   "source": [
    "#### Excercise 8-3"
   ]
  },
  {
   "cell_type": "code",
   "execution_count": 9,
   "metadata": {},
   "outputs": [
    {
     "name": "stdout",
     "output_type": "stream",
     "text": [
      "This shirt is of medium size. The message written on the shirt reads: \"Never give up...!\"\n",
      "None\n",
      "This shirt is of medium size. The message written on the shirt reads: \"Never give up...!\"\n",
      "None\n"
     ]
    }
   ],
   "source": [
    "def make_shirt(shirt_size, shirt_message):\n",
    "    print(f'This shirt is of {shirt_size} size. The message written on the shirt reads: \"{shirt_message}\"')\n",
    "\n",
    "#Using positional arguments\n",
    "print(make_shirt('medium','Never give up...!'))\n",
    "\n",
    "#Using keyword arguments\n",
    "print(make_shirt(shirt_size='medium',shirt_message='Never give up...!'))"
   ]
  },
  {
   "attachments": {},
   "cell_type": "markdown",
   "metadata": {},
   "source": [
    "#### Excercise 8-4"
   ]
  },
  {
   "cell_type": "code",
   "execution_count": 13,
   "metadata": {},
   "outputs": [
    {
     "name": "stdout",
     "output_type": "stream",
     "text": [
      "This shirt is of large size. The message written on the shirt reads: \"I love python\"\n",
      "None\n",
      "This shirt is of medium size. The message written on the shirt reads: \"I love python\"\n",
      "None\n",
      "This shirt is of large size. The message written on the shirt reads: \"Programming is fun!\"\n",
      "None\n"
     ]
    }
   ],
   "source": [
    "def make_shirt(shirt_size='large',shirt_message='I love python'):\n",
    "    print(f'This shirt is of {shirt_size} size. The message written on the shirt reads: \"{shirt_message}\"')\n",
    "\n",
    "#making large shirt with default message\n",
    "print(make_shirt())\n",
    "\n",
    "#making medium shirt with default message\n",
    "print(make_shirt(shirt_size='medium'))\n",
    "\n",
    "#a shirt of any size with a different message.\n",
    "print(make_shirt(shirt_message='Programming is fun!'))\n",
    "\n"
   ]
  },
  {
   "attachments": {},
   "cell_type": "markdown",
   "metadata": {},
   "source": [
    "#### Excercise 8-5"
   ]
  },
  {
   "cell_type": "code",
   "execution_count": 14,
   "metadata": {},
   "outputs": [
    {
     "name": "stdout",
     "output_type": "stream",
     "text": [
      "Kano is in Nigeria.\n",
      "Kaura Namoda is in Nigeria.\n",
      "Niamey is in Niger Republic.\n"
     ]
    }
   ],
   "source": [
    "def describe_city(city_name, city_country='Nigeria'):\n",
    "    return f'{city_name.title()} is in {city_country.title()}.'\n",
    "\n",
    "#Call your function for three different cities, at least one of which is not in the default country.\n",
    "print (describe_city('Kano'))\n",
    "print (describe_city('Kaura Namoda'))\n",
    "print (describe_city('Niamey','Niger Republic'))"
   ]
  },
  {
   "attachments": {},
   "cell_type": "markdown",
   "metadata": {},
   "source": [
    "#### Excercise 8-6"
   ]
  },
  {
   "cell_type": "code",
   "execution_count": 2,
   "metadata": {},
   "outputs": [
    {
     "name": "stdout",
     "output_type": "stream",
     "text": [
      "Madina, Saudi Arabia\n",
      "Abuja, Nigeria\n",
      "Kaura Namoda, Nigeria\n"
     ]
    }
   ],
   "source": [
    "def city_country(city_name,city_country):\n",
    "    return f'{city_name.title()}, {city_country.title()}'\n",
    "\n",
    "#Call your function with at least three city-country pairs, and print the values that are returned.\n",
    "print(city_country('madina',\"saudi arabia\"))\n",
    "print(city_country('Abuja','nigeria'))\n",
    "print(city_country('Kaura namoda','Nigeria'))"
   ]
  },
  {
   "attachments": {},
   "cell_type": "markdown",
   "metadata": {},
   "source": [
    "#### Excerise 8-7"
   ]
  },
  {
   "cell_type": "code",
   "execution_count": 7,
   "metadata": {},
   "outputs": [
    {
     "name": "stdout",
     "output_type": "stream",
     "text": [
      "{'Mamman Shata': 'Ramin Mugunta'}\n",
      "{'Dan Maraya': 'Giadan Haya'}\n",
      "{'Sani Sabulu': 'Jiran Lokaci'}\n",
      "{'Sani Sabulu': 'Jiran Lokaci', 'Number of songs': 5}\n"
     ]
    }
   ],
   "source": [
    "def make_album(artist_name,album_title):\n",
    "    album_dict={}\n",
    "    album_dict[artist_name.title()]=album_title.title()\n",
    "    return album_dict\n",
    "\n",
    "#Use the function to make three dictionaries representing different albums.\n",
    "print(make_album('mamman shata','ramin mugunta'))\n",
    "print(make_album('Dan maraya','Giadan haya'))\n",
    "print(make_album('Sani sabulu','jiran lokaci'))\n",
    "\n",
    "#Use None to add an optional parameter to make_album() that allows you to\n",
    "#store the number of songs on an album.\n",
    "def make_album(artist_name,album_title,number_of_songs=None):\n",
    "    album_dict={}\n",
    "    if number_of_songs==None:\n",
    "        album_dict[artist_name.title()]=album_title.title()\n",
    "        return album_dict\n",
    "    else:\n",
    "        album_dict[artist_name.title()]=album_title.title()\n",
    "        album_dict['Number of songs']=number_of_songs\n",
    "        return album_dict\n",
    "\n",
    "#Make at least one new function call that includes the number of songs on an album.\n",
    "print(make_album('Sani sabulu','jiran lokaci',5))\n",
    "\n"
   ]
  },
  {
   "attachments": {},
   "cell_type": "markdown",
   "metadata": {},
   "source": [
    "#### Excercise 8-8"
   ]
  },
  {
   "cell_type": "code",
   "execution_count": 1,
   "metadata": {},
   "outputs": [
    {
     "name": "stdout",
     "output_type": "stream",
     "text": [
      "\n",
      "Enter Artist name: \n",
      "(You can enter \"q\" to quit at any time)\n"
     ]
    }
   ],
   "source": [
    "def make_album(artist_name,album_title):\n",
    "    album_dict={}\n",
    "    album_dict[artist_name.title()]=album_title.title()\n",
    "    return album_dict\n",
    "\n",
    "while True:\n",
    "        print('\\nEnter Artist name: ')\n",
    "        print('(You can enter \"q\" to quit at any time)')\n",
    "\n",
    "        artist_name=input('Enter Artist\\'s name: ')\n",
    "        if artist_name=='q':\n",
    "            break\n",
    "\n",
    "        print('\\nEnter Album name: ')\n",
    "        print('( You can enter \"q\" to quit at any time)')\n",
    "        album_title=input('Enter album\\'s title: ')\n",
    "        if album_title=='q':\n",
    "            break\n",
    "\n",
    "        #call make_album() with the user’s input and print the dictionary\n",
    "        print(make_album())"
   ]
  },
  {
   "attachments": {},
   "cell_type": "markdown",
   "metadata": {},
   "source": [
    "#### Excercise 8-9"
   ]
  },
  {
   "cell_type": "code",
   "execution_count": 2,
   "metadata": {},
   "outputs": [
    {
     "name": "stdout",
     "output_type": "stream",
     "text": [
      "Hello\n",
      "Hi\n",
      "Well done\n",
      "None\n"
     ]
    }
   ],
   "source": [
    "def show_messages(messages_list):\n",
    "    for message in messages_list:\n",
    "        print(message)\n",
    "\n",
    "messages=['Hello', 'Hi', 'Well done']\n",
    "print(show_messages(messages))\n"
   ]
  },
  {
   "attachments": {},
   "cell_type": "markdown",
   "metadata": {},
   "source": [
    "#### Excercise 8-10"
   ]
  },
  {
   "cell_type": "code",
   "execution_count": 4,
   "metadata": {},
   "outputs": [
    {
     "name": "stdout",
     "output_type": "stream",
     "text": [
      "Well done\n",
      "Hi\n",
      "Hello\n",
      "Sent messages are: ['Well done', 'Hi', 'Hello']\n",
      "Initial messages are: []\n"
     ]
    }
   ],
   "source": [
    "messages=['Hello', 'Hi', 'Well done']\n",
    "sent_messages=[]\n",
    "\n",
    "def send_messages(unsent_messages):\n",
    "    while unsent_messages:\n",
    "        current_message=unsent_messages.pop()\n",
    "        print(current_message)\n",
    "        sent_messages.append(current_message)\n",
    "\n",
    "#After calling the function, print both of your lists to make sure the messages were moved correctly.\n",
    "\n",
    "send_messages(messages)\n",
    "print(f'Sent messages are: {sent_messages}\\nInitial messages are: {messages}')"
   ]
  },
  {
   "attachments": {},
   "cell_type": "markdown",
   "metadata": {},
   "source": [
    "#### Excercise 8-11"
   ]
  },
  {
   "cell_type": "code",
   "execution_count": 5,
   "metadata": {},
   "outputs": [
    {
     "name": "stdout",
     "output_type": "stream",
     "text": [
      "Well done\n",
      "Hi\n",
      "Hello\n",
      "The original list is:  ['Hello', 'Hi', 'Well done']\n",
      "The new list is:  ['Well done', 'Hi', 'Hello']\n"
     ]
    }
   ],
   "source": [
    "messages=['Hello', 'Hi', 'Well done']\n",
    "sent_messages=[]\n",
    "def send_messages(unsent_messages):\n",
    "    while unsent_messages:\n",
    "        current_message=unsent_messages.pop()\n",
    "        print(current_message)\n",
    "        sent_messages.append(current_message)\n",
    "\n",
    "#Call the function send_messages() with a copy of the list of messages.\n",
    "send_messages(messages[:])\n",
    "\n",
    "#After calling the function, print both of your lists to show that the original list has retained its messages.\n",
    "print('The original list is: ',messages)\n",
    "print('The new list is: ',sent_messages)"
   ]
  },
  {
   "attachments": {},
   "cell_type": "markdown",
   "metadata": {},
   "source": [
    "#### Excercise 8-12"
   ]
  },
  {
   "cell_type": "code",
   "execution_count": 9,
   "metadata": {},
   "outputs": [
    {
     "name": "stdout",
     "output_type": "stream",
     "text": [
      "The following items are needed in the sandwich:\n",
      "- egg\n",
      "The following items are needed in the sandwich:\n",
      "- peppe\n",
      "- egg\n",
      "The following items are needed in the sandwich:\n",
      "- peppe\n",
      "- egg\n",
      "- salad\n",
      "None\n",
      "None\n",
      "None\n"
     ]
    }
   ],
   "source": [
    "def make_sandwich(*items):\n",
    "    \"\"\"Takes and print list of items needed in a sandwich\"\"\"\n",
    "    print('The following items are needed in the sandwich:')\n",
    "    for item in items:\n",
    "      print(f'- {item}')\n",
    "    \n",
    "#Call the function three times, using a different number of arguments each time.\n",
    "sandwich1=make_sandwich('egg')\n",
    "sandwich2=make_sandwich('peppe','egg')\n",
    "sandwich3=make_sandwich('peppe','egg','salad')\n",
    "print(sandwich1)\n",
    "print(sandwich2)\n",
    "print(sandwich3)\n"
   ]
  },
  {
   "attachments": {},
   "cell_type": "markdown",
   "metadata": {},
   "source": [
    "#### Excercise 8-13"
   ]
  },
  {
   "cell_type": "code",
   "execution_count": 11,
   "metadata": {},
   "outputs": [
    {
     "name": "stdout",
     "output_type": "stream",
     "text": [
      "{'city': 'Kaura Namoda', 'state': 'Zamfara', 'country': 'Nigeria', 'first_name': 'Abubakar', 'last_name': 'Auwal'}\n"
     ]
    }
   ],
   "source": [
    "def build_profile(first,last,**user_info):\n",
    "    user_info['first_name']=first\n",
    "    user_info['last_name']=last\n",
    "    return user_info\n",
    "\n",
    "#Build a profile of yourself by calling build_profile(), using your first and last names\n",
    "#and three other key-value pairs that describe you.\n",
    "my_profile=build_profile('Abubakar','Auwal',city='Kaura Namoda',state='Zamfara',country=\"Nigeria\")\n",
    "print(my_profile)"
   ]
  },
  {
   "attachments": {},
   "cell_type": "markdown",
   "metadata": {},
   "source": [
    "#### Excercise 8-14"
   ]
  },
  {
   "cell_type": "code",
   "execution_count": 18,
   "metadata": {},
   "outputs": [
    {
     "name": "stdout",
     "output_type": "stream",
     "text": [
      "{'color': 'green', 'speed_level': 'high', 'manufacturer_name': 'Proforce', 'model_name': '2020'}\n"
     ]
    }
   ],
   "source": [
    "def store_car_info(manufacturer,model,**car_info):\n",
    "    car_info['manufacturer_name']=manufacturer\n",
    "    car_info['model_name']=model\n",
    "    return car_info\n",
    "\n",
    "#Call the function with the required information and two other name-value pairs, such as a\n",
    "#color or an optional feature.\n",
    "car=store_car_info('Proforce','2020',color='green',speed_level='high')\n",
    "print(car)"
   ]
  },
  {
   "attachments": {},
   "cell_type": "markdown",
   "metadata": {},
   "source": [
    "#### Excercise 8-15"
   ]
  },
  {
   "attachments": {},
   "cell_type": "markdown",
   "metadata": {},
   "source": [
    "##### printing_models.py"
   ]
  },
  {
   "cell_type": "code",
   "execution_count": null,
   "metadata": {},
   "outputs": [],
   "source": [
    "import printing_functions as pf\n",
    "\n",
    "unprinted_designs = ['phone case', 'robot pendant', 'dodecahedron']\n",
    "completed_models = []\n",
    "pf.print_models(unprinted_designs, completed_models)\n",
    "pf.show_completed_models(completed_models)"
   ]
  },
  {
   "attachments": {},
   "cell_type": "markdown",
   "metadata": {},
   "source": [
    "#### Excercise 8-16"
   ]
  },
  {
   "attachments": {},
   "cell_type": "markdown",
   "metadata": {},
   "source": [
    "##### greeting.py"
   ]
  },
  {
   "cell_type": "code",
   "execution_count": 9,
   "metadata": {},
   "outputs": [
    {
     "name": "stdout",
     "output_type": "stream",
     "text": [
      "Hello! Abubakar Kamal\n",
      "Hello! Abubakar Auwal\n",
      "Hello! Abubakar Jamila\n",
      "Hello! Abubakar Hadiza\n",
      "Hello! Abubakar Ibrahim\n"
     ]
    }
   ],
   "source": [
    "import greeting_function\n",
    "print(greeting_function.greet_person('Abubakar','Kamal'))\n",
    "\n",
    "\n",
    "from greeting_function import greet_person\n",
    "print(greet_person('Abubakar','Auwal'))\n",
    "\n",
    "\n",
    "from greeting_function import greet_person as gp\n",
    "print(gp('Abubakar','Jamila'))\n",
    "\n",
    "\n",
    "import greeting_function as gf\n",
    "print(gf.greet_person('Abubakar','Hadiza'))\n",
    "\n",
    "\n",
    "from greeting_function import *\n",
    "print(greet_person('Abubakar','Ibrahim'))"
   ]
  }
 ],
 "metadata": {
  "kernelspec": {
   "display_name": "Python 3",
   "language": "python",
   "name": "python3"
  },
  "language_info": {
   "codemirror_mode": {
    "name": "ipython",
    "version": 3
   },
   "file_extension": ".py",
   "mimetype": "text/x-python",
   "name": "python",
   "nbconvert_exporter": "python",
   "pygments_lexer": "ipython3",
   "version": "3.11.1"
  },
  "orig_nbformat": 4,
  "vscode": {
   "interpreter": {
    "hash": "a6c3004ce060ded9e0c076ab48db6d8cf68670c15173d9367e97ef3f186c9ed1"
   }
  }
 },
 "nbformat": 4,
 "nbformat_minor": 2
}
