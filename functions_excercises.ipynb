{
 "cells": [
  {
   "attachments": {},
   "cell_type": "markdown",
   "metadata": {},
   "source": [
    "# Functions"
   ]
  },
  {
   "attachments": {},
   "cell_type": "markdown",
   "metadata": {},
   "source": [
    "#### Excercise 8-1"
   ]
  },
  {
   "cell_type": "code",
   "execution_count": 1,
   "metadata": {},
   "outputs": [
    {
     "name": "stdout",
     "output_type": "stream",
     "text": [
      "Hey! I'm learning functions in this chapter\n",
      "None\n"
     ]
    }
   ],
   "source": [
    "def display_message():\n",
    "    \"\"\"This function tells people what I'm learning in this chapter \"\"\"\n",
    "    print('Hey! I\\'m learning functions in this chapter')\n",
    "\n",
    "print(display_message())"
   ]
  },
  {
   "attachments": {},
   "cell_type": "markdown",
   "metadata": {},
   "source": [
    "#### Excercise 8-2"
   ]
  },
  {
   "cell_type": "code",
   "execution_count": 5,
   "metadata": {},
   "outputs": [
    {
     "name": "stdout",
     "output_type": "stream",
     "text": [
      "One of my favorite books is Python Crash Course\n",
      "None\n"
     ]
    }
   ],
   "source": [
    "def  favorite_book(title):\n",
    "    print('One of my favorite books is {}'.format(title.title()))\n",
    "\n",
    "print(favorite_book('Python crash course'))"
   ]
  },
  {
   "attachments": {},
   "cell_type": "markdown",
   "metadata": {},
   "source": [
    "#### Excercise 8-3"
   ]
  },
  {
   "cell_type": "code",
   "execution_count": 9,
   "metadata": {},
   "outputs": [
    {
     "name": "stdout",
     "output_type": "stream",
     "text": [
      "This shirt is of medium size. The message written on the shirt reads: \"Never give up...!\"\n",
      "None\n",
      "This shirt is of medium size. The message written on the shirt reads: \"Never give up...!\"\n",
      "None\n"
     ]
    }
   ],
   "source": [
    "def make_shirt(shirt_size, shirt_message):\n",
    "    print(f'This shirt is of {shirt_size} size. The message written on the shirt reads: \"{shirt_message}\"')\n",
    "\n",
    "#Using positional arguments\n",
    "print(make_shirt('medium','Never give up...!'))\n",
    "\n",
    "#Using keyword arguments\n",
    "print(make_shirt(shirt_size='medium',shirt_message='Never give up...!'))"
   ]
  },
  {
   "attachments": {},
   "cell_type": "markdown",
   "metadata": {},
   "source": [
    "#### Excercise 8-4"
   ]
  },
  {
   "cell_type": "code",
   "execution_count": 13,
   "metadata": {},
   "outputs": [
    {
     "name": "stdout",
     "output_type": "stream",
     "text": [
      "This shirt is of large size. The message written on the shirt reads: \"I love python\"\n",
      "None\n",
      "This shirt is of medium size. The message written on the shirt reads: \"I love python\"\n",
      "None\n",
      "This shirt is of large size. The message written on the shirt reads: \"Programming is fun!\"\n",
      "None\n"
     ]
    }
   ],
   "source": [
    "def make_shirt(shirt_size='large',shirt_message='I love python'):\n",
    "    print(f'This shirt is of {shirt_size} size. The message written on the shirt reads: \"{shirt_message}\"')\n",
    "\n",
    "#making large shirt with default message\n",
    "print(make_shirt())\n",
    "\n",
    "#making medium shirt with default message\n",
    "print(make_shirt(shirt_size='medium'))\n",
    "\n",
    "#a shirt of any size with a different message.\n",
    "print(make_shirt(shirt_message='Programming is fun!'))\n",
    "\n"
   ]
  },
  {
   "attachments": {},
   "cell_type": "markdown",
   "metadata": {},
   "source": [
    "#### Excercise 8-5"
   ]
  },
  {
   "cell_type": "code",
   "execution_count": 14,
   "metadata": {},
   "outputs": [
    {
     "name": "stdout",
     "output_type": "stream",
     "text": [
      "Kano is in Nigeria.\n",
      "Kaura Namoda is in Nigeria.\n",
      "Niamey is in Niger Republic.\n"
     ]
    }
   ],
   "source": [
    "def describe_city(city_name, city_country='Nigeria'):\n",
    "    return f'{city_name.title()} is in {city_country.title()}.'\n",
    "\n",
    "#Call your function for three different cities, at least one of which is not in the default country.\n",
    "print (describe_city('Kano'))\n",
    "print (describe_city('Kaura Namoda'))\n",
    "print (describe_city('Niamey','Niger Republic'))"
   ]
  }
 ],
 "metadata": {
  "kernelspec": {
   "display_name": "Python 3",
   "language": "python",
   "name": "python3"
  },
  "language_info": {
   "codemirror_mode": {
    "name": "ipython",
    "version": 3
   },
   "file_extension": ".py",
   "mimetype": "text/x-python",
   "name": "python",
   "nbconvert_exporter": "python",
   "pygments_lexer": "ipython3",
   "version": "3.11.1"
  },
  "orig_nbformat": 4,
  "vscode": {
   "interpreter": {
    "hash": "a6c3004ce060ded9e0c076ab48db6d8cf68670c15173d9367e97ef3f186c9ed1"
   }
  }
 },
 "nbformat": 4,
 "nbformat_minor": 2
}
