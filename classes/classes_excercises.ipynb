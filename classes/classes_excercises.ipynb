{
 "cells": [
  {
   "attachments": {},
   "cell_type": "markdown",
   "metadata": {},
   "source": [
    "# Classes"
   ]
  },
  {
   "attachments": {},
   "cell_type": "markdown",
   "metadata": {},
   "source": [
    "#### Excercise 9-1"
   ]
  },
  {
   "cell_type": "code",
   "execution_count": 4,
   "metadata": {},
   "outputs": [
    {
     "name": "stdout",
     "output_type": "stream",
     "text": [
      "Aroma Kitchen\n",
      "Pounded Yam\n",
      "\n",
      "This restaurant is called Aroma Kitchen, it serves Pounded Yam cuisine\n",
      "\n",
      "Aroma Kitchen is open!\n"
     ]
    }
   ],
   "source": [
    "class Restaurant:\n",
    "    \"\"\" This is a class that models restaurant \"\"\"\n",
    "    def __init__(self,restaurant_name,cuisine_type):\n",
    "        \"\"\" Initializes a restaurant name and its type of cuisine  \"\"\"\n",
    "        self.name=restaurant_name\n",
    "        self.cuisine=cuisine_type\n",
    "\n",
    "\n",
    "    def describe_restaurant(self):\n",
    "        \"\"\" Describes a restaurant  \"\"\"\n",
    "        print(f'\\nThis restaurant is called {self.name}, it serves {self.cuisine} cuisine')\n",
    "\n",
    "\n",
    "    def open_restaurant(self):\n",
    "        \"\"\" It tells if a restaurant is open \"\"\"\n",
    "        print (f'\\n{self.name} is open!')\n",
    "\n",
    "\n",
    "#Make an instance called restaurant from your class.\n",
    "# Print the two attributes individually, and then call both methods.\n",
    "restaurant=Restaurant('Aroma Kitchen','Pounded Yam')\n",
    "print(restaurant.name)\n",
    "print(restaurant.cuisine)\n",
    "\n",
    "restaurant.describe_restaurant()\n",
    "restaurant.open_restaurant()\n"
   ]
  },
  {
   "attachments": {},
   "cell_type": "markdown",
   "metadata": {},
   "source": [
    "#### Excercise 9-2"
   ]
  },
  {
   "cell_type": "code",
   "execution_count": 5,
   "metadata": {},
   "outputs": [
    {
     "name": "stdout",
     "output_type": "stream",
     "text": [
      "\n",
      "This restaurant is called Feel at Home, it serves Shinkafa cuisine\n",
      "\n",
      "This restaurant is called Mr Biggs, it serves Tuwon Dawa cuisine\n",
      "\n",
      "This restaurant is called Sahara , it serves Pepper soup cuisine\n"
     ]
    }
   ],
   "source": [
    "class Restaurant:\n",
    "    \"\"\" This is a class that models restaurant \"\"\"\n",
    "    def __init__(self,restaurant_name,cuisine_type):\n",
    "        \"\"\" Initializes a restaurant name and its type of cuisine  \"\"\"\n",
    "        self.name=restaurant_name\n",
    "        self.cuisine=cuisine_type\n",
    "\n",
    "\n",
    "    def describe_restaurant(self):\n",
    "        \"\"\" Describes a restaurant  \"\"\"\n",
    "        print(f'\\nThis restaurant is called {self.name}, it serves {self.cuisine} cuisine')\n",
    "\n",
    "\n",
    "    def open_restaurant(self):\n",
    "        \"\"\" It tells if a restaurant is open \"\"\"\n",
    "        print (f'\\n{self.name} is open!')\n",
    "\n",
    "\n",
    "#Create three different instances from the class\n",
    "resataurant1=Restaurant('Feel at Home','Shinkafa')\n",
    "resataurant2=Restaurant('Mr Biggs','Tuwon Dawa')\n",
    "resataurant3=Restaurant('Sahara ','Pepper soup')\n",
    "\n",
    "#call describe_restaurant() for each instance\n",
    "resataurant1.describe_restaurant()\n",
    "resataurant2.describe_restaurant()\n",
    "resataurant3.describe_restaurant()"
   ]
  },
  {
   "attachments": {},
   "cell_type": "markdown",
   "metadata": {},
   "source": [
    "#### Excercise 9-3"
   ]
  },
  {
   "cell_type": "code",
   "execution_count": 11,
   "metadata": {},
   "outputs": [
    {
     "name": "stdout",
     "output_type": "stream",
     "text": [
      "\n",
      "This user is called Auwal Abubakar. \n",
      "He is 80 years old. \n",
      "He is from Kaura Namoda city, Nigeria\n",
      "Hello, Auwal Abubakar\n",
      "\n",
      "This user is called Abdullateef Yusuf. \n",
      "He is 30 years old. \n",
      "He is from Riyad city, Saudi Arabia\n",
      "Hello, Abdullateef Yusuf\n",
      "\n",
      "This user is called Mustapha Ahmad. \n",
      "He is 150 years old. \n",
      "He is from London city, United Kingdom\n",
      "Hello, Mustapha Ahmad\n"
     ]
    }
   ],
   "source": [
    "class User:\n",
    "    \"\"\" This is a class that models a user \"\"\"\n",
    "    def __init__(self,first_name,last_name,age,city,country):\n",
    "        \"\"\" initializes a user profile \"\"\"\n",
    "        self.first=first_name\n",
    "        self.last=last_name\n",
    "        self.age=age\n",
    "        self.city=city\n",
    "        self.country=country\n",
    "\n",
    "\n",
    "    def describe_user(self):\n",
    "        \"\"\" Prints summary of user information \"\"\"\n",
    "        print(f'\\nThis user is called {self.first} {self.last}. \\nHe is {self.age} years old. \\nHe is from { self.city} city, {self.country}')\n",
    "\n",
    "\n",
    "    def greet_user(self):\n",
    "        \"\"\" Prints personalized greeting for a user  \"\"\"\n",
    "        print(f'Hello, {self.first} {self.last}')\n",
    "\n",
    "\n",
    "#Create several instances representing different users, \n",
    "user1=User('Auwal','Abubakar',80,'Kaura Namoda','Nigeria')\n",
    "user2=User('Abdullateef','Yusuf',30,'Riyad','Saudi Arabia')\n",
    "user3=User('Mustapha','Ahmad',150,'London','United Kingdom')\n",
    "\n",
    "#call both methods for each user\n",
    "user1.describe_user()\n",
    "user1.greet_user()\n",
    "\n",
    "user2.describe_user()\n",
    "user2.greet_user()\n",
    "\n",
    "user3.describe_user()\n",
    "user3.greet_user()\n"
   ]
  },
  {
   "attachments": {},
   "cell_type": "markdown",
   "metadata": {},
   "source": [
    "#### Excerise 9-4"
   ]
  },
  {
   "cell_type": "code",
   "execution_count": 16,
   "metadata": {},
   "outputs": [
    {
     "name": "stdout",
     "output_type": "stream",
     "text": [
      "\n",
      "This restaurant is called Aroma Kitchen, it has Pepper soup cuisine. \n",
      "It has served 0 customers today\n",
      "\n",
      "This restaurant is called Aroma Kitchen, it has Pepper soup cuisine. \n",
      "It has served 20 customers today\n",
      "\n",
      "Aroma Kitchen has served 50\n",
      "\n",
      "Aroma Kitchen has served 55\n"
     ]
    }
   ],
   "source": [
    "class Restaurant:\n",
    "    \"\"\" This is a class that models restaurant \"\"\"\n",
    "    def __init__(self,restaurant_name,cuisine_type):\n",
    "        \"\"\" Initializes a restaurant name and its type of cuisine  \"\"\"\n",
    "        self.name=restaurant_name\n",
    "        self.cuisine=cuisine_type\n",
    "        self.number_served=0\n",
    "\n",
    "\n",
    "    def describe_restaurant(self):\n",
    "        \"\"\" Describes a restaurant  \"\"\"\n",
    "        print(f'\\nThis restaurant is called {self.name}, it has {self.cuisine} cuisine. \\nIt has served {self.number_served} customers today')\n",
    "\n",
    "\n",
    "    def open_restaurant(self):\n",
    "        \"\"\" It tells if a restaurant is open \"\"\"\n",
    "        print (f'\\n{self.name} is open!')\n",
    "\n",
    "\n",
    "    def set_number_served(self,number_of_customers):\n",
    "        \"\"\" Sets the number of customers served  \"\"\"\n",
    "        self.number_served=number_of_customers\n",
    "        print(f'\\n{self.name} has served {self.number_served}')\n",
    "        \n",
    "\n",
    "    def increment_number_served(self,number_of_new_customers):\n",
    "        \"\"\" It increments the number of customers served by the given value \"\"\"\n",
    "        self.number_served+=number_of_new_customers\n",
    "        print(f'\\n{self.name} has served {self.number_served}')\n",
    "\n",
    "\n",
    "#Create an instance called restaurant from this class.\n",
    "# Print the number of customers the restaurant has served,\n",
    "restaurant=Restaurant('Aroma Kitchen','Pepper soup')\n",
    "restaurant.describe_restaurant()\n",
    "\n",
    "#then change this value and print it again.\n",
    "restaurant.number_served=20\n",
    "restaurant.describe_restaurant()\n",
    "\n",
    "#Add a method called set_number_served() that lets you set the number \n",
    "# of customers that have been served. Call this method with a new number and\n",
    "# print the value again.\n",
    "restaurant.set_number_served(50)\n",
    "\n",
    "#Add a method called increment_number_served() that lets you increment\n",
    "# the number of customers who’ve been served. Call this method with any number you like\n",
    "restaurant.increment_number_served(5)\n",
    "\n"
   ]
  },
  {
   "attachments": {},
   "cell_type": "markdown",
   "metadata": {},
   "source": [
    "#### Excercise 9-5"
   ]
  },
  {
   "cell_type": "code",
   "execution_count": 14,
   "metadata": {},
   "outputs": [
    {
     "name": "stdout",
     "output_type": "stream",
     "text": [
      "\n",
      "Abubakar Auwal has has made 1 login attempts\n",
      "\n",
      "Abubakar Auwal has has made 2 login attempts\n",
      "\n",
      "Abubakar Auwal has has made 3 login attempts\n",
      "\n",
      "Abubakar Auwal has has made 0 login attempts\n"
     ]
    }
   ],
   "source": [
    "class User:\n",
    "    \"\"\" This is a class that models a user \"\"\"\n",
    "    def __init__(self,first_name,last_name,age,city,country):\n",
    "        \"\"\" initializes a user profile \"\"\"\n",
    "        self.first=first_name\n",
    "        self.last=last_name\n",
    "        self.age=age\n",
    "        self.city=city\n",
    "        self.country=country\n",
    "        self.login_attempts=0\n",
    "\n",
    "\n",
    "    def describe_user(self):\n",
    "        \"\"\" Prints summary of user information \"\"\"\n",
    "        print(f'\\nThis user is called {self.first} {self.last}. \\nHe is {self.age} years old. \\nHe is from { self.city} city, {self.country}.')\n",
    "\n",
    "\n",
    "    def greet_user(self):\n",
    "        \"\"\" Prints personalized greeting for a user  \"\"\"\n",
    "        print(f'Hello, {self.first} {self.last}')\n",
    "\n",
    "\n",
    "    def increment_login_attempts(self):\n",
    "        \"\"\"Increments a user login attempt by 1 \"\"\"\n",
    "        self.login_attempts+=1\n",
    "        print(f'\\n{self.first} {self.last} has has made {self.login_attempts} login attempts')\n",
    "\n",
    "\n",
    "    def reset_login_attempts(self):\n",
    "        \"\"\"Resets a user login attempts to zero \"\"\"\n",
    "        self.login_attempts=0\n",
    "        print(f'\\n{self.first} {self.last} has has made {self.login_attempts} login attempts')\n",
    "\n",
    "\n",
    "#Make an instance of the User class and call increment_login_attempts() several times.\n",
    "user=User('Abubakar','Auwal',80,'Kaura Namoda','Nigeria')\n",
    "user.increment_login_attempts()\n",
    "user.increment_login_attempts()\n",
    "user.increment_login_attempts()\n",
    "\n",
    "#then call reset_login_attempts().\n",
    "user.reset_login_attempts()\n",
    "        \n"
   ]
  },
  {
   "attachments": {},
   "cell_type": "markdown",
   "metadata": {},
   "source": [
    "#### Excercise 9-6"
   ]
  }
 ],
 "metadata": {
  "kernelspec": {
   "display_name": "Python 3",
   "language": "python",
   "name": "python3"
  },
  "language_info": {
   "codemirror_mode": {
    "name": "ipython",
    "version": 3
   },
   "file_extension": ".py",
   "mimetype": "text/x-python",
   "name": "python",
   "nbconvert_exporter": "python",
   "pygments_lexer": "ipython3",
   "version": "3.11.1"
  },
  "orig_nbformat": 4,
  "vscode": {
   "interpreter": {
    "hash": "a6c3004ce060ded9e0c076ab48db6d8cf68670c15173d9367e97ef3f186c9ed1"
   }
  }
 },
 "nbformat": 4,
 "nbformat_minor": 2
}
