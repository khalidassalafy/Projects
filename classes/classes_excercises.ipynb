{
 "cells": [
  {
   "attachments": {},
   "cell_type": "markdown",
   "metadata": {},
   "source": [
    "# Classes"
   ]
  },
  {
   "attachments": {},
   "cell_type": "markdown",
   "metadata": {},
   "source": [
    "#### Excercise 9-1"
   ]
  },
  {
   "cell_type": "code",
   "execution_count": 4,
   "metadata": {},
   "outputs": [
    {
     "name": "stdout",
     "output_type": "stream",
     "text": [
      "Aroma Kitchen\n",
      "Pounded Yam\n",
      "\n",
      "This restaurant is called Aroma Kitchen, it serves Pounded Yam cuisine\n",
      "\n",
      "Aroma Kitchen is open!\n"
     ]
    }
   ],
   "source": [
    "class Restaurant:\n",
    "    \"\"\" This is a class that models restaurant \"\"\"\n",
    "    def __init__(self,restaurant_name,cuisine_type):\n",
    "        \"\"\" Initializes a restaurant name and its type of cuisine  \"\"\"\n",
    "        self.name=restaurant_name\n",
    "        self.cuisine=cuisine_type\n",
    "\n",
    "\n",
    "    def describe_restaurant(self):\n",
    "        \"\"\" Describes a restaurant  \"\"\"\n",
    "        print(f'\\nThis restaurant is called {self.name}, it serves {self.cuisine} cuisine')\n",
    "\n",
    "\n",
    "    def open_restaurant(self):\n",
    "        \"\"\" It tells if a restaurant is open \"\"\"\n",
    "        print (f'\\n{self.name} is open!')\n",
    "\n",
    "\n",
    "#Make an instance called restaurant from your class.\n",
    "# Print the two attributes individually, and then call both methods.\n",
    "restaurant=Restaurant('Aroma Kitchen','Pounded Yam')\n",
    "print(restaurant.name)\n",
    "print(restaurant.cuisine)\n",
    "\n",
    "restaurant.describe_restaurant()\n",
    "restaurant.open_restaurant()\n"
   ]
  },
  {
   "attachments": {},
   "cell_type": "markdown",
   "metadata": {},
   "source": [
    "#### Excercise 9-2"
   ]
  },
  {
   "cell_type": "code",
   "execution_count": 5,
   "metadata": {},
   "outputs": [
    {
     "name": "stdout",
     "output_type": "stream",
     "text": [
      "\n",
      "This restaurant is called Feel at Home, it serves Shinkafa cuisine\n",
      "\n",
      "This restaurant is called Mr Biggs, it serves Tuwon Dawa cuisine\n",
      "\n",
      "This restaurant is called Sahara , it serves Pepper soup cuisine\n"
     ]
    }
   ],
   "source": [
    "class Restaurant:\n",
    "    \"\"\" This is a class that models restaurant \"\"\"\n",
    "    def __init__(self,restaurant_name,cuisine_type):\n",
    "        \"\"\" Initializes a restaurant name and its type of cuisine  \"\"\"\n",
    "        self.name=restaurant_name\n",
    "        self.cuisine=cuisine_type\n",
    "\n",
    "\n",
    "    def describe_restaurant(self):\n",
    "        \"\"\" Describes a restaurant  \"\"\"\n",
    "        print(f'\\nThis restaurant is called {self.name}, it serves {self.cuisine} cuisine')\n",
    "\n",
    "\n",
    "    def open_restaurant(self):\n",
    "        \"\"\" It tells if a restaurant is open \"\"\"\n",
    "        print (f'\\n{self.name} is open!')\n",
    "\n",
    "\n",
    "#Create three different instances from the class\n",
    "resataurant1=Restaurant('Feel at Home','Shinkafa')\n",
    "resataurant2=Restaurant('Mr Biggs','Tuwon Dawa')\n",
    "resataurant3=Restaurant('Sahara ','Pepper soup')\n",
    "\n",
    "#call describe_restaurant() for each instance\n",
    "resataurant1.describe_restaurant()\n",
    "resataurant2.describe_restaurant()\n",
    "resataurant3.describe_restaurant()"
   ]
  },
  {
   "attachments": {},
   "cell_type": "markdown",
   "metadata": {},
   "source": [
    "#### Excercise 9-3"
   ]
  },
  {
   "cell_type": "code",
   "execution_count": 11,
   "metadata": {},
   "outputs": [
    {
     "name": "stdout",
     "output_type": "stream",
     "text": [
      "\n",
      "This user is called Auwal Abubakar. \n",
      "He is 80 years old. \n",
      "He is from Kaura Namoda city, Nigeria\n",
      "Hello, Auwal Abubakar\n",
      "\n",
      "This user is called Abdullateef Yusuf. \n",
      "He is 30 years old. \n",
      "He is from Riyad city, Saudi Arabia\n",
      "Hello, Abdullateef Yusuf\n",
      "\n",
      "This user is called Mustapha Ahmad. \n",
      "He is 150 years old. \n",
      "He is from London city, United Kingdom\n",
      "Hello, Mustapha Ahmad\n"
     ]
    }
   ],
   "source": [
    "class User:\n",
    "    \"\"\" This is a class that models a user \"\"\"\n",
    "    def __init__(self,first_name,last_name,age,city,country):\n",
    "        \"\"\" initializes a user profile \"\"\"\n",
    "        self.first=first_name\n",
    "        self.last=last_name\n",
    "        self.age=age\n",
    "        self.city=city\n",
    "        self.country=country\n",
    "\n",
    "\n",
    "    def describe_user(self):\n",
    "        \"\"\" Prints summary of user information \"\"\"\n",
    "        print(f'\\nThis user is called {self.first} {self.last}. \\nHe is {self.age} years old. \\nHe is from { self.city} city, {self.country}')\n",
    "\n",
    "\n",
    "    def greet_user(self):\n",
    "        \"\"\" Prints personalized greeting for a user  \"\"\"\n",
    "        print(f'Hello, {self.first} {self.last}')\n",
    "\n",
    "\n",
    "#Create several instances representing different users, \n",
    "user1=User('Auwal','Abubakar',80,'Kaura Namoda','Nigeria')\n",
    "user2=User('Abdullateef','Yusuf',30,'Riyad','Saudi Arabia')\n",
    "user3=User('Mustapha','Ahmad',150,'London','United Kingdom')\n",
    "\n",
    "#call both methods for each user\n",
    "user1.describe_user()\n",
    "user1.greet_user()\n",
    "\n",
    "user2.describe_user()\n",
    "user2.greet_user()\n",
    "\n",
    "user3.describe_user()\n",
    "user3.greet_user()\n"
   ]
  }
 ],
 "metadata": {
  "kernelspec": {
   "display_name": "Python 3",
   "language": "python",
   "name": "python3"
  },
  "language_info": {
   "codemirror_mode": {
    "name": "ipython",
    "version": 3
   },
   "file_extension": ".py",
   "mimetype": "text/x-python",
   "name": "python",
   "nbconvert_exporter": "python",
   "pygments_lexer": "ipython3",
   "version": "3.11.1"
  },
  "orig_nbformat": 4,
  "vscode": {
   "interpreter": {
    "hash": "a6c3004ce060ded9e0c076ab48db6d8cf68670c15173d9367e97ef3f186c9ed1"
   }
  }
 },
 "nbformat": 4,
 "nbformat_minor": 2
}
